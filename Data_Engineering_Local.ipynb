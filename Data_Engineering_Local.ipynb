{
 "cells": [
  {
   "cell_type": "code",
   "execution_count": 10,
   "id": "52d8e47f",
   "metadata": {},
   "outputs": [],
   "source": [
    "import pandas as pd\n",
    "import numpy as np\n",
    "import psycopg2\n",
    "from datetime import datetime\n",
    "import warnings\n",
    "warnings.filterwarnings(\"ignore\")\n",
    "\n",
    "# cleaning and converting data types\n",
    "def clean_and_convert_data_types(df):\n",
    "    for column in df.columns:\n",
    "        try:\n",
    "            # Attempt to convert to integer\n",
    "            df[column] = pd.to_numeric(df[column], errors='raise').astype('Int64')\n",
    "        except (ValueError, TypeError):\n",
    "            try:\n",
    "                # Attempt to convert to float\n",
    "                df[column] = pd.to_numeric(df[column], errors='raise')\n",
    "            except (ValueError, TypeError):\n",
    "                try:\n",
    "                    # Attempt to convert to datetime\n",
    "                    df[column] = pd.to_datetime(df[column], errors='raise')\n",
    "                except (ValueError, TypeError):\n",
    "                    pass\n",
    "    return df\n",
    "\n",
    "# replacing NaN values\n",
    "def replace_nan_values(df):\n",
    "    for column in df.columns:\n",
    "        if df[column].dtype == 'O':  # Check if datatype is object (string)\n",
    "            df[column] = df[column].fillna('UNKNOWN')\n",
    "        elif pd.api.types.is_numeric_dtype(df[column].dtype):  # Check if datatype is numeric\n",
    "            df[column] = df[column].fillna(0)\n",
    "        elif pd.api.types.is_datetime64_dtype(df[column].dtype):  # Check if datatype is datetime\n",
    "            mode_value = df[column].mode().iloc[0]  # Calculate mode\n",
    "            df[column] = pd.to_datetime(df[column], errors='coerce').fillna(mode_value)\n",
    "    return df\n",
    "# checking if a table exists\n",
    "def table_exists(cursor, table_name):\n",
    "    cursor.execute(\"\"\"\n",
    "        SELECT EXISTS (\n",
    "            SELECT 1\n",
    "            FROM information_schema.tables\n",
    "            WHERE table_name = %s\n",
    "        )\n",
    "    \"\"\", (table_name,))\n",
    "    return cursor.fetchone()[0]\n",
    "\n",
    "def create_table_if_not_exists(connection, cursor, table_name, table_schema):\n",
    "    if not table_exists(cursor, table_name):\n",
    "        cursor.execute(table_schema)\n",
    "        connection.commit()\n",
    "\n",
    "# transforming and loading data into PostgreSQL with batch processing\n",
    "def transform_and_load_to_postgres_batch(cleaned_data, connection_params, table_name, table_schema, batch_size=1000):\n",
    "    connection = psycopg2.connect(**connection_params)\n",
    "    cursor = connection.cursor()\n",
    "\n",
    "    # Create the table if it doesn't exist\n",
    "    create_table_if_not_exists(connection, cursor, table_name, table_schema)\n",
    "    for start_index in range(0, len(cleaned_data), batch_size):\n",
    "        end_index = start_index + batch_size\n",
    "        batch_data = cleaned_data.iloc[start_index:end_index]\n",
    "\n",
    "        for index, row in batch_data.iterrows():\n",
    "            id, price, minimum_nights, last_review, reviews_per_month = row['id'], row['price'], row['minimum_nights'], row['last_review'], row['reviews_per_month']\n",
    "            cursor.execute(\"SELECT * FROM warehouse_table WHERE id = %s\", (id,))\n",
    "            existing_record = cursor.fetchone()\n",
    "\n",
    "            if existing_record:\n",
    "                if (\n",
    "                    existing_record[9] != price or\n",
    "                    existing_record[10] != minimum_nights or\n",
    "                    existing_record[11] != last_review or\n",
    "                    existing_record[12] != reviews_per_month\n",
    "                ):\n",
    "                    cursor.execute(\"\"\"\n",
    "                        UPDATE warehouse_table\n",
    "                        SET\n",
    "                            price = %s,\n",
    "                            minimum_nights = %s,\n",
    "                            last_review = %s,\n",
    "                            reviews_per_month = %s,\n",
    "                            last_updated_date = CURRENT_DATE\n",
    "                        WHERE\n",
    "                            id = %s\n",
    "                    \"\"\", (price, minimum_nights, last_review, reviews_per_month, id))\n",
    "            else:\n",
    "                cursor.execute(\"\"\"\n",
    "                    INSERT INTO warehouse_table (\n",
    "                        id, name, host_id, host_name, neighbourhood_group, neighbourhood,\n",
    "                        latitude, longitude, room_type, price, minimum_nights, number_of_reviews,\n",
    "                        last_review, reviews_per_month, calculated_host_listings_count,\n",
    "                        availability_365, last_updated_date\n",
    "                    )\n",
    "                    VALUES (%s, %s, %s, %s, %s, %s, %s, %s, %s, %s, %s, %s, %s, %s, %s, %s, CURRENT_DATE)\n",
    "                \"\"\", (\n",
    "                    id, row['name'], row['host_id'], row['host_name'],\n",
    "                    row['neighbourhood_group'], row['neighbourhood'], row['latitude'],\n",
    "                    row['longitude'], row['room_type'], price, minimum_nights,\n",
    "                    row['number_of_reviews'], last_review, reviews_per_month,\n",
    "                    row['calculated_host_listings_count'], row['availability_365']\n",
    "                ))\n",
    "            \n",
    "\n",
    "    connection.commit()\n",
    "\n",
    "    cursor.close()\n",
    "    connection.close()\n",
    "\n",
    "\n",
    "def execute_data_pipeline(raw_data_path, connection_params, table_name, table_schema, batch_size=1000):\n",
    "    raw_data = pd.read_csv(raw_data_path)\n",
    "    cleaned_data = clean_and_convert_data_types(raw_data)\n",
    "    cleaned_data = replace_nan_values(cleaned_data)\n",
    "\n",
    "    transform_and_load_to_postgres_batch(cleaned_data, connection_params, table_name, table_schema, batch_size)\n",
    "\n",
    "raw_data_path = 'ABNB_NYC_2019.csv'\n",
    "connection_params = {\n",
    "    \"user\": \"rk\",\n",
    "    \"password\": \"Cvs@9154\",\n",
    "    \"host\": \"localhost\",\n",
    "    \"port\": \"5432\",\n",
    "    \"database\": \"airbnb\"\n",
    "}\n",
    "table_name = 'warehouse_table'\n",
    "table_schema = \"\"\"\n",
    "    CREATE TABLE warehouse_table (\n",
    "        id INT PRIMARY KEY,\n",
    "        name VARCHAR(255),\n",
    "        host_id INT,\n",
    "        host_name VARCHAR(255),\n",
    "        neighbourhood_group VARCHAR(255),\n",
    "        neighbourhood VARCHAR(255),\n",
    "        latitude FLOAT,\n",
    "        longitude FLOAT,\n",
    "        room_type VARCHAR(50),\n",
    "        price INT,\n",
    "        minimum_nights INT,\n",
    "        number_of_reviews INT,\n",
    "        last_review DATE,\n",
    "        reviews_per_month FLOAT,\n",
    "        calculated_host_listings_count INT,\n",
    "        availability_365 INT,\n",
    "        last_updated_date DATE\n",
    "    )\n",
    "\"\"\"\n",
    "\n",
    "execute_data_pipeline(raw_data_path, connection_params, table_name, table_schema, batch_size=1000)\n"
   ]
  },
  {
   "cell_type": "markdown",
   "id": "31230a58",
   "metadata": {},
   "source": [
    "## TESTING\n",
    "\n",
    "Giving updated CSV file as input and checking if update is reflected in database table or not."
   ]
  },
  {
   "cell_type": "code",
   "execution_count": 11,
   "id": "4d6d4c77",
   "metadata": {},
   "outputs": [],
   "source": [
    "import pandas as pd\n",
    "import numpy as np\n",
    "import psycopg2\n",
    "from datetime import datetime\n",
    "import warnings\n",
    "warnings.filterwarnings(\"ignore\")\n",
    "\n",
    "def clean_and_convert_data_types(df):\n",
    "    for column in df.columns:\n",
    "        try:\n",
    "            # Attempt to convert to integer\n",
    "            df[column] = pd.to_numeric(df[column], errors='raise').astype('Int64')\n",
    "        except (ValueError, TypeError):\n",
    "            try:\n",
    "                # Attempt to convert to float\n",
    "                df[column] = pd.to_numeric(df[column], errors='raise')\n",
    "            except (ValueError, TypeError):\n",
    "                try:\n",
    "                    # Attempt to convert to datetime\n",
    "                    df[column] = pd.to_datetime(df[column], errors='raise')\n",
    "                except (ValueError, TypeError):\n",
    "                    pass\n",
    "    return df\n",
    "\n",
    "# Function for replacing NaN values\n",
    "def replace_nan_values(df):\n",
    "    for column in df.columns:\n",
    "        if df[column].dtype == 'O':  # Check if datatype is object (string)\n",
    "            df[column] = df[column].fillna('UNKNOWN')\n",
    "        elif pd.api.types.is_numeric_dtype(df[column].dtype):  # Check if datatype is numeric\n",
    "            df[column] = df[column].fillna(0)\n",
    "        elif pd.api.types.is_datetime64_dtype(df[column].dtype):  # Check if datatype is datetime\n",
    "            mode_value = df[column].mode().iloc[0]  # Calculate mode\n",
    "            df[column] = pd.to_datetime(df[column], errors='coerce').fillna(mode_value)\n",
    "    return df\n",
    "# Function for checking if a table exists\n",
    "def table_exists(cursor, table_name):\n",
    "    cursor.execute(\"\"\"\n",
    "        SELECT EXISTS (\n",
    "            SELECT 1\n",
    "            FROM information_schema.tables\n",
    "            WHERE table_name = %s\n",
    "        )\n",
    "    \"\"\", (table_name,))\n",
    "    return cursor.fetchone()[0]\n",
    "\n",
    "def create_table_if_not_exists(connection, cursor, table_name, table_schema):\n",
    "    if not table_exists(cursor, table_name):\n",
    "        cursor.execute(table_schema)\n",
    "        connection.commit()\n",
    "\n",
    "# Function for transforming and loading data into PostgreSQL with batch processing\n",
    "def transform_and_load_to_postgres_batch(cleaned_data, connection_params, table_name, table_schema, batch_size=1000):\n",
    "    connection = psycopg2.connect(**connection_params)\n",
    "    cursor = connection.cursor()\n",
    "\n",
    "    # Create the table if it doesn't exist\n",
    "    create_table_if_not_exists(connection, cursor, table_name, table_schema)\n",
    "\n",
    "    # Batch processing\n",
    "    for start_index in range(0, len(cleaned_data), batch_size):\n",
    "        end_index = start_index + batch_size\n",
    "        batch_data = cleaned_data.iloc[start_index:end_index]\n",
    "\n",
    "        for index, row in batch_data.iterrows():\n",
    "            id, price, minimum_nights, last_review, reviews_per_month = row['id'], row['price'], row['minimum_nights'], row['last_review'], row['reviews_per_month']\n",
    "\n",
    "            # Check if the record exists in the warehouse_table\n",
    "            cursor.execute(\"SELECT * FROM warehouse_table WHERE id = %s\", (id,))\n",
    "            existing_record = cursor.fetchone()\n",
    "\n",
    "            if existing_record:\n",
    "                # Check if there are changes in relevant columns\n",
    "                if (\n",
    "                    existing_record[9] != price or\n",
    "                    existing_record[10] != minimum_nights or\n",
    "                    existing_record[11] != last_review or\n",
    "                    existing_record[12] != reviews_per_month\n",
    "                ):\n",
    "                    # Update the existing record with the new values and set last_updated_date\n",
    "                    cursor.execute(\"\"\"\n",
    "                        UPDATE warehouse_table\n",
    "                        SET\n",
    "                            price = %s,\n",
    "                            minimum_nights = %s,\n",
    "                            last_review = %s,\n",
    "                            reviews_per_month = %s,\n",
    "                            last_updated_date = CURRENT_DATE\n",
    "                        WHERE\n",
    "                            id = %s\n",
    "                    \"\"\", (price, minimum_nights, last_review, reviews_per_month, id))\n",
    "            else:\n",
    "                # Insert the new record into warehouse_table\n",
    "                cursor.execute(\"\"\"\n",
    "                    INSERT INTO warehouse_table (\n",
    "                        id, name, host_id, host_name, neighbourhood_group, neighbourhood,\n",
    "                        latitude, longitude, room_type, price, minimum_nights, number_of_reviews,\n",
    "                        last_review, reviews_per_month, calculated_host_listings_count,\n",
    "                        availability_365, last_updated_date\n",
    "                    )\n",
    "                    VALUES (%s, %s, %s, %s, %s, %s, %s, %s, %s, %s, %s, %s, %s, %s, %s, %s, CURRENT_DATE)\n",
    "                \"\"\", (\n",
    "                    id, row['name'], row['host_id'], row['host_name'],\n",
    "                    row['neighbourhood_group'], row['neighbourhood'], row['latitude'],\n",
    "                    row['longitude'], row['room_type'], price, minimum_nights,\n",
    "                    row['number_of_reviews'], last_review, reviews_per_month,\n",
    "                    row['calculated_host_listings_count'], row['availability_365']\n",
    "                ))\n",
    "            \n",
    "\n",
    "    connection.commit()\n",
    "\n",
    "    cursor.close()\n",
    "    connection.close()\n",
    "\n",
    "\n",
    "# Function to execute the data pipeline\n",
    "def execute_data_pipeline(raw_data_path, connection_params, table_name, table_schema, batch_size=1000):\n",
    "    # Load raw data\n",
    "    raw_data = pd.read_csv(raw_data_path)\n",
    "\n",
    "    # Clean and convert data types\n",
    "    cleaned_data = clean_and_convert_data_types(raw_data)\n",
    "\n",
    "    # Replace NaN values\n",
    "    cleaned_data = replace_nan_values(cleaned_data)\n",
    "\n",
    "    # Transform and load into PostgreSQL with batch processing\n",
    "    transform_and_load_to_postgres_batch(cleaned_data, connection_params, table_name, table_schema, batch_size)\n",
    "\n",
    "# Define the pipeline parameters\n",
    "raw_data_path = 'ABNB_NYC_2019_updated.csv'\n",
    "connection_params = {\n",
    "    \"user\": \"rk\",\n",
    "    \"password\": \"Cvs@9154\",\n",
    "    \"host\": \"localhost\",\n",
    "    \"port\": \"5432\",\n",
    "    \"database\": \"airbnb\"\n",
    "}\n",
    "table_name = 'warehouse_table'\n",
    "table_schema = \"\"\"\n",
    "    CREATE TABLE warehouse_table (\n",
    "        id INT PRIMARY KEY,\n",
    "        name VARCHAR(255),\n",
    "        host_id INT,\n",
    "        host_name VARCHAR(255),\n",
    "        neighbourhood_group VARCHAR(255),\n",
    "        neighbourhood VARCHAR(255),\n",
    "        latitude FLOAT,\n",
    "        longitude FLOAT,\n",
    "        room_type VARCHAR(50),\n",
    "        price INT,\n",
    "        minimum_nights INT,\n",
    "        number_of_reviews INT,\n",
    "        last_review DATE,\n",
    "        reviews_per_month FLOAT,\n",
    "        calculated_host_listings_count INT,\n",
    "        availability_365 INT,\n",
    "        last_updated_date DATE\n",
    "    )\n",
    "\"\"\"\n",
    "\n",
    "# Execute the data pipeline with batch processing\n",
    "execute_data_pipeline(raw_data_path, connection_params, table_name, table_schema, batch_size=1000)\n"
   ]
  },
  {
   "cell_type": "markdown",
   "id": "fe66baf5",
   "metadata": {},
   "source": [
    "Updates are reflected in database table."
   ]
  },
  {
   "cell_type": "code",
   "execution_count": 12,
   "id": "e1372176",
   "metadata": {},
   "outputs": [
    {
     "name": "stdout",
     "output_type": "stream",
     "text": [
      "Top 5 neighborhoods with maximum listings:\n",
      "        neighbourhood  num_listings\n",
      "0        Williamsburg          3920\n",
      "1  Bedford-Stuyvesant          3714\n",
      "2              Harlem          2658\n",
      "3            Bushwick          2465\n",
      "4     Upper West Side          1971\n",
      "\n",
      "Name of person with the second maximum number of listings:\n",
      "  host_name  num_listings\n",
      "0     David           403\n",
      "\n",
      "Number of room type listings for every neighborhood:\n",
      "     neighbourhood        room_type  num_listings\n",
      "0         Allerton     Private room            26\n",
      "1         Allerton  Entire home/apt            16\n",
      "2    Arden Heights  Entire home/apt             3\n",
      "3    Arden Heights     Private room             1\n",
      "4         Arrochar     Private room            11\n",
      "..             ...              ...           ...\n",
      "535       Woodlawn      Shared room             1\n",
      "536        Woodrow  Entire home/apt             1\n",
      "537       Woodside     Private room           171\n",
      "538       Woodside  Entire home/apt            63\n",
      "539       Woodside      Shared room             1\n",
      "\n",
      "[540 rows x 3 columns]\n"
     ]
    }
   ],
   "source": [
    "import psycopg2\n",
    "import pandas as pd\n",
    "\n",
    "connection = psycopg2.connect(\n",
    "    user=\"rk\",\n",
    "    password=\"Cvs@9154\",\n",
    "    host=\"localhost\",\n",
    "    port=\"5432\",\n",
    "    database=\"airbnb\"\n",
    ")\n",
    "\n",
    "def execute_query(query):\n",
    "    return pd.read_sql_query(query, connection)\n",
    "\n",
    "top_5_neighborhoods = \"\"\"\n",
    "SELECT neighbourhood, COUNT(*) AS num_listings\n",
    "FROM warehouse_table\n",
    "GROUP BY neighbourhood\n",
    "ORDER BY num_listings DESC\n",
    "LIMIT 5;\n",
    "\"\"\"\n",
    "first_result = execute_query(top_5_neighborhoods)\n",
    "print(\"Top 5 neighborhoods with maximum listings:\")\n",
    "print(first_result)\n",
    "\n",
    "# ii. Name of person with the second maximum number of listings\n",
    "person_with_second_max_listings = \"\"\"\n",
    "SELECT host_name, COUNT(DISTINCT id) AS num_listings\n",
    "FROM warehouse_table\n",
    "GROUP BY host_name\n",
    "ORDER BY num_listings DESC\n",
    "LIMIT 1 OFFSET 1;\n",
    "\"\"\"\n",
    "second_result = execute_query(person_with_second_max_listings)\n",
    "print(\"\\nName of person with the second maximum number of listings:\")\n",
    "print(second_result)\n",
    "\n",
    "# iii. Number of room type listings for every neighborhood\n",
    "no_of_room_types_per_neighborhood = \"\"\"\n",
    "SELECT neighbourhood, room_type, COUNT(*) AS num_listings\n",
    "FROM warehouse_table\n",
    "GROUP BY neighbourhood, room_type\n",
    "ORDER BY neighbourhood, num_listings DESC;\n",
    "\"\"\"\n",
    "third_result = execute_query(no_of_room_types_per_neighborhood)\n",
    "print(\"\\nNumber of room type listings for every neighborhood:\")\n",
    "print(third_result)\n",
    "\n",
    "connection.close()\n"
   ]
  },
  {
   "cell_type": "code",
   "execution_count": 13,
   "id": "53977216",
   "metadata": {},
   "outputs": [],
   "source": [
    "import psycopg2\n",
    "import pandas as pd\n",
    "import matplotlib.pyplot as plt\n",
    "import seaborn as sns\n",
    "\n",
    "# Connecting to the warehouse\n",
    "connection = psycopg2.connect(\n",
    "    user=\"rk\",\n",
    "    password=\"Cvs@9154\",\n",
    "    host=\"localhost\",\n",
    "    port=\"5432\",\n",
    "    database=\"airbnb\"\n",
    ")\n",
    "\n",
    "# Query to retrieve data\n",
    "query = \"\"\"\n",
    "    SELECT *\n",
    "    FROM warehouse_table\n",
    "\"\"\"\n",
    "\n",
    "df = pd.read_sql_query(query, connection)\n",
    "\n",
    "connection.close()\n",
    "\n",
    "\n",
    "\n",
    "\n",
    "\n",
    "\n"
   ]
  },
  {
   "cell_type": "code",
   "execution_count": 14,
   "id": "6f361bb5",
   "metadata": {},
   "outputs": [
    {
     "data": {
      "application/vnd.plotly.v1+json": {
       "config": {
        "plotlyServerURL": "https://plot.ly"
       },
       "data": [
        {
         "customdata": [
          [
           "Allerton"
          ],
          [
           "Arden Heights"
          ],
          [
           "Arrochar"
          ],
          [
           "Arverne"
          ],
          [
           "Astoria"
          ],
          [
           "Bath Beach"
          ],
          [
           "Battery Park City"
          ],
          [
           "Bay Ridge"
          ],
          [
           "Bay Terrace"
          ],
          [
           "Bay Terrace, Staten Island"
          ],
          [
           "Baychester"
          ],
          [
           "Bayside"
          ],
          [
           "Bayswater"
          ],
          [
           "Bedford-Stuyvesant"
          ],
          [
           "Belle Harbor"
          ],
          [
           "Bellerose"
          ],
          [
           "Belmont"
          ],
          [
           "Bensonhurst"
          ],
          [
           "Bergen Beach"
          ],
          [
           "Boerum Hill"
          ],
          [
           "Borough Park"
          ],
          [
           "Breezy Point"
          ],
          [
           "Briarwood"
          ],
          [
           "Brighton Beach"
          ],
          [
           "Bronxdale"
          ],
          [
           "Brooklyn Heights"
          ],
          [
           "Brownsville"
          ],
          [
           "Bull's Head"
          ],
          [
           "Bushwick"
          ],
          [
           "Cambria Heights"
          ],
          [
           "Canarsie"
          ],
          [
           "Carroll Gardens"
          ],
          [
           "Castle Hill"
          ],
          [
           "Castleton Corners"
          ],
          [
           "Chelsea"
          ],
          [
           "Chinatown"
          ],
          [
           "City Island"
          ],
          [
           "Civic Center"
          ],
          [
           "Claremont Village"
          ],
          [
           "Clason Point"
          ],
          [
           "Clifton"
          ],
          [
           "Clinton Hill"
          ],
          [
           "Co-op City"
          ],
          [
           "Cobble Hill"
          ],
          [
           "College Point"
          ],
          [
           "Columbia St"
          ],
          [
           "Concord"
          ],
          [
           "Concourse"
          ],
          [
           "Concourse Village"
          ],
          [
           "Coney Island"
          ],
          [
           "Corona"
          ],
          [
           "Crown Heights"
          ],
          [
           "Cypress Hills"
          ],
          [
           "DUMBO"
          ],
          [
           "Ditmars Steinway"
          ],
          [
           "Dongan Hills"
          ],
          [
           "Douglaston"
          ],
          [
           "Downtown Brooklyn"
          ],
          [
           "Dyker Heights"
          ],
          [
           "East Elmhurst"
          ],
          [
           "East Flatbush"
          ],
          [
           "East Harlem"
          ],
          [
           "East Morrisania"
          ],
          [
           "East New York"
          ],
          [
           "East Village"
          ],
          [
           "Eastchester"
          ],
          [
           "Edenwald"
          ],
          [
           "Edgemere"
          ],
          [
           "Elmhurst"
          ],
          [
           "Eltingville"
          ],
          [
           "Emerson Hill"
          ],
          [
           "Far Rockaway"
          ],
          [
           "Fieldston"
          ],
          [
           "Financial District"
          ],
          [
           "Flatbush"
          ],
          [
           "Flatiron District"
          ],
          [
           "Flatlands"
          ],
          [
           "Flushing"
          ],
          [
           "Fordham"
          ],
          [
           "Forest Hills"
          ],
          [
           "Fort Greene"
          ],
          [
           "Fort Hamilton"
          ],
          [
           "Fort Wadsworth"
          ],
          [
           "Fresh Meadows"
          ],
          [
           "Glendale"
          ],
          [
           "Gowanus"
          ],
          [
           "Gramercy"
          ],
          [
           "Graniteville"
          ],
          [
           "Grant City"
          ],
          [
           "Gravesend"
          ],
          [
           "Great Kills"
          ],
          [
           "Greenpoint"
          ],
          [
           "Greenwich Village"
          ],
          [
           "Grymes Hill"
          ],
          [
           "Harlem"
          ],
          [
           "Hell's Kitchen"
          ],
          [
           "Highbridge"
          ],
          [
           "Hollis"
          ],
          [
           "Holliswood"
          ],
          [
           "Howard Beach"
          ],
          [
           "Howland Hook"
          ],
          [
           "Huguenot"
          ],
          [
           "Hunts Point"
          ],
          [
           "Inwood"
          ],
          [
           "Jackson Heights"
          ],
          [
           "Jamaica"
          ],
          [
           "Jamaica Estates"
          ],
          [
           "Jamaica Hills"
          ],
          [
           "Kensington"
          ],
          [
           "Kew Gardens"
          ],
          [
           "Kew Gardens Hills"
          ],
          [
           "Kingsbridge"
          ],
          [
           "Kips Bay"
          ],
          [
           "Laurelton"
          ],
          [
           "Lighthouse Hill"
          ],
          [
           "Little Italy"
          ],
          [
           "Little Neck"
          ],
          [
           "Long Island City"
          ],
          [
           "Longwood"
          ],
          [
           "Lower East Side"
          ],
          [
           "Manhattan Beach"
          ],
          [
           "Marble Hill"
          ],
          [
           "Mariners Harbor"
          ],
          [
           "Maspeth"
          ],
          [
           "Melrose"
          ],
          [
           "Middle Village"
          ],
          [
           "Midland Beach"
          ],
          [
           "Midtown"
          ],
          [
           "Midwood"
          ],
          [
           "Mill Basin"
          ],
          [
           "Morningside Heights"
          ],
          [
           "Morris Heights"
          ],
          [
           "Morris Park"
          ],
          [
           "Morrisania"
          ],
          [
           "Mott Haven"
          ],
          [
           "Mount Eden"
          ],
          [
           "Mount Hope"
          ],
          [
           "Murray Hill"
          ],
          [
           "Navy Yard"
          ],
          [
           "Neponsit"
          ],
          [
           "New Brighton"
          ],
          [
           "New Dorp"
          ],
          [
           "New Dorp Beach"
          ],
          [
           "New Springville"
          ],
          [
           "NoHo"
          ],
          [
           "Nolita"
          ],
          [
           "North Riverdale"
          ],
          [
           "Norwood"
          ],
          [
           "Oakwood"
          ],
          [
           "Olinville"
          ],
          [
           "Ozone Park"
          ],
          [
           "Park Slope"
          ],
          [
           "Parkchester"
          ],
          [
           "Pelham Bay"
          ],
          [
           "Pelham Gardens"
          ],
          [
           "Port Morris"
          ],
          [
           "Port Richmond"
          ],
          [
           "Prince's Bay"
          ],
          [
           "Prospect Heights"
          ],
          [
           "Prospect-Lefferts Gardens"
          ],
          [
           "Queens Village"
          ],
          [
           "Randall Manor"
          ],
          [
           "Red Hook"
          ],
          [
           "Rego Park"
          ],
          [
           "Richmond Hill"
          ],
          [
           "Richmondtown"
          ],
          [
           "Ridgewood"
          ],
          [
           "Riverdale"
          ],
          [
           "Rockaway Beach"
          ],
          [
           "Roosevelt Island"
          ],
          [
           "Rosebank"
          ],
          [
           "Rosedale"
          ],
          [
           "Rossville"
          ],
          [
           "Schuylerville"
          ],
          [
           "Sea Gate"
          ],
          [
           "Sheepshead Bay"
          ],
          [
           "Shore Acres"
          ],
          [
           "Silver Lake"
          ],
          [
           "SoHo"
          ],
          [
           "Soundview"
          ],
          [
           "South Beach"
          ],
          [
           "South Ozone Park"
          ],
          [
           "South Slope"
          ],
          [
           "Springfield Gardens"
          ],
          [
           "Spuyten Duyvil"
          ],
          [
           "St. Albans"
          ],
          [
           "St. George"
          ],
          [
           "Stapleton"
          ],
          [
           "Stuyvesant Town"
          ],
          [
           "Sunnyside"
          ],
          [
           "Sunset Park"
          ],
          [
           "Theater District"
          ],
          [
           "Throgs Neck"
          ],
          [
           "Todt Hill"
          ],
          [
           "Tompkinsville"
          ],
          [
           "Tottenville"
          ],
          [
           "Tremont"
          ],
          [
           "Tribeca"
          ],
          [
           "Two Bridges"
          ],
          [
           "Unionport"
          ],
          [
           "University Heights"
          ],
          [
           "Upper East Side"
          ],
          [
           "Upper West Side"
          ],
          [
           "Van Nest"
          ],
          [
           "Vinegar Hill"
          ],
          [
           "Wakefield"
          ],
          [
           "Washington Heights"
          ],
          [
           "West Brighton"
          ],
          [
           "West Farms"
          ],
          [
           "West Village"
          ],
          [
           "Westchester Square"
          ],
          [
           "Westerleigh"
          ],
          [
           "Whitestone"
          ],
          [
           "Williamsbridge"
          ],
          [
           "Williamsburg"
          ],
          [
           "Willowbrook"
          ],
          [
           "Windsor Terrace"
          ],
          [
           "Woodhaven"
          ],
          [
           "Woodlawn"
          ],
          [
           "Woodrow"
          ],
          [
           "Woodside"
          ]
         ],
         "hovertemplate": "Latitude=%{lat}<br>Longitude=%{lon}<br>neighbourhood=%{customdata[0]}<br>Average Price=%{marker.color}<extra></extra>",
         "lat": [
          40.865291666666664,
          40.55241,
          40.593899523809526,
          40.59185298701299,
          40.764299155555555,
          40.60413411764706,
          40.709964285714285,
          40.63142361702128,
          40.78066333333334,
          40.551435,
          40.87361571428572,
          40.759776153846154,
          40.60571823529411,
          40.687198887991386,
          40.57615125,
          40.731111428571424,
          40.855061666666664,
          40.612183466666664,
          40.623371000000006,
          40.68639096045198,
          40.63727345588235,
          40.56573,
          40.70975517857143,
          40.57841293333333,
          40.85473105263158,
          40.69479337662337,
          40.66467426229508,
          40.60115,
          40.69674103042596,
          40.69378230769231,
          40.638594285714284,
          40.6806352360515,
          40.81688888888888,
          40.6171025,
          40.74468665768194,
          40.71561961956522,
          40.84787222222222,
          40.713855384615385,
          40.83918535714286,
          40.811750476190475,
          40.619166,
          40.688114440559445,
          40.86481499999999,
          40.687267272727276,
          40.78480263157895,
          40.685023095238094,
          40.60201192307692,
          40.8269188,
          40.83005375,
          40.57593882352941,
          40.7429009375,
          40.67269851662404,
          40.68219525925925,
          40.70326583333333,
          40.7750295145631,
          40.580395714285714,
          40.75964125,
          40.694321927710845,
          40.6240875,
          40.76278367567568,
          40.64900038,
          40.79614334825425,
          40.831259,
          40.668212018348626,
          40.72676342687534,
          40.88085230769231,
          40.88803461538461,
          40.59467545454545,
          40.73993611814346,
          40.541043333333334,
          40.607162,
          40.597408620689656,
          40.8919425,
          40.70690612903226,
          40.64495351046699,
          40.74105225,
          40.62554265060241,
          40.754883967136145,
          40.86322158730159,
          40.721642777777774,
          40.69018822085889,
          40.61895781818182,
          40.59546,
          40.7390734375,
          40.70078425925926,
          40.67629947368421,
          40.73557207100592,
          40.62283,
          40.57893,
          40.595597794117644,
          40.549969,
          40.7279669147982,
          40.73066278061224,
          40.614848571428574,
          40.81602560195636,
          40.762156971399385,
          40.83548962962963,
          40.71452,
          40.7224525,
          40.661451,
          40.631294999999994,
          40.53946666666667,
          40.81552222222222,
          40.86531611111111,
          40.75174322580645,
          40.685045844155844,
          40.718346315789475,
          40.71358875,
          40.64174885714286,
          40.7083015625,
          40.724429615384615,
          40.87679828571429,
          40.74181514893617,
          40.67529277777778,
          40.576795000000004,
          40.71880008264463,
          40.764697999999996,
          40.7524518621974,
          40.82127806451613,
          40.718386871569706,
          40.579364999999996,
          40.87574083333333,
          40.63317875,
          40.729699,
          40.821535,
          40.716305806451615,
          40.57369666666667,
          40.75487114563107,
          40.62020688073394,
          40.612382499999995,
          40.80834164739884,
          40.84913117647059,
          40.85227933333333,
          40.82828111111111,
          40.8109975,
          40.842063333333336,
          40.8484305,
          40.74743463917525,
          40.69982142857143,
          40.57063,
          40.642607999999996,
          40.57044,
          40.564828,
          40.5845125,
          40.72700987179487,
          40.722145652173914,
          40.907599,
          40.87503580645161,
          40.560512,
          40.883655,
          40.68123887096774,
          40.6741683201581,
          40.83565,
          40.84935,
          40.86368392857143,
          40.80673391304348,
          40.63314888888888,
          40.5257,
          40.67753243697479,
          40.659284953271026,
          40.71459383333333,
          40.632749473684214,
          40.67721012658228,
          40.72680462264151,
          40.69398457446809,
          40.57093,
          40.70407765957447,
          40.88735181818182,
          40.58743357142857,
          40.763282987012985,
          40.61214857142857,
          40.65946898305084,
          40.5479,
          40.83585769230769,
          40.57711857142857,
          40.59623030487805,
          40.608822857142854,
          40.623395,
          40.72437955307263,
          40.826920666666666,
          40.59120125,
          40.67225925,
          40.66492566901409,
          40.66768988235294,
          40.88109,
          40.69566763157894,
          40.643308125,
          40.632663333333326,
          40.731838918918925,
          40.74241371900826,
          40.65252517948718,
          40.7598365625,
          40.824156249999994,
          40.603375,
          40.633134523809524,
          40.507349999999995,
          40.84367909090909,
          40.71774378531073,
          40.71172722222222,
          40.828294285714286,
          40.85805809523809,
          40.77274807007786,
          40.78846260273973,
          40.84326,
          40.70154676470588,
          40.893178400000004,
          40.84449530589544,
          40.63193222222222,
          40.84135,
          40.7343511328125,
          40.839690000000004,
          40.613895,
          40.78423818181818,
          40.87893525,
          40.71256288520408,
          40.59886,
          40.65461184713376,
          40.691967727272726,
          40.897420909090904,
          40.53884,
          40.7459250212766
         ],
         "legendgroup": "",
         "lon": [
          -73.85872714285715,
          -74.1822525,
          -74.07460047619048,
          -73.7948390909091,
          -73.92000176666667,
          -74.00637411764706,
          -74.016585,
          -74.02623751773051,
          -73.78305,
          -74.140495,
          -73.84296714285713,
          -73.76862512820513,
          -73.76258235294118,
          -73.9398129267636,
          -73.849045,
          -73.7263957142857,
          -73.88710875,
          -73.9940088,
          -73.90920600000001,
          -73.98548593220339,
          -73.99703058823529,
          -73.86990333333334,
          -73.81381392857143,
          -73.96129933333333,
          -73.86628736842106,
          -73.99432435064935,
          -73.91421426229508,
          -74.16637166666668,
          -73.92037348478702,
          -73.73592038461538,
          -73.9012931292517,
          -73.99616004291845,
          -73.84700000000001,
          -74.1230075,
          -73.99811000898472,
          -73.99390682065217,
          -73.78705444444444,
          -74.00362826923077,
          -73.90927857142857,
          -73.85678952380952,
          -74.08156133333334,
          -73.96440064685315,
          -73.82324,
          -73.99555353535354,
          -73.84378736842105,
          -74.0024573809524,
          -74.08418653846154,
          -73.92446939999999,
          -73.9178053125,
          -73.98858176470588,
          -73.86100015625,
          -73.94632447570332,
          -73.88409666666666,
          -73.98789888888888,
          -73.91055352750809,
          -74.09334142857142,
          -73.73612625,
          -73.98493807228915,
          -74.0104725,
          -73.87868027027028,
          -73.93927633999999,
          -73.94228510295434,
          -73.88883799999999,
          -73.88419665137614,
          -73.9838571559633,
          -73.83472230769232,
          -73.83608692307692,
          -73.77372818181819,
          -73.87870569620254,
          -74.15436333333334,
          -74.12800999999999,
          -73.75450620689656,
          -73.90194166666667,
          -74.00916733870967,
          -73.96051922705314,
          -73.98841350000001,
          -73.93257578313253,
          -73.81951089201878,
          -73.8943592063492,
          -73.84672479166666,
          -73.97410271983641,
          -74.03223527272726,
          -74.06092,
          -73.788746875,
          -73.8892062962963,
          -73.98865825910931,
          -73.98429849112425,
          -74.16575333333334,
          -74.10933,
          -73.97689617647059,
          -74.144807,
          -73.95054533632286,
          -73.99856306122449,
          -74.09376285714286,
          -73.948005579383,
          -73.99147516343209,
          -73.92785185185186,
          -73.76707642857143,
          -73.77063,
          -73.845106,
          -74.17262,
          -74.17168,
          -73.88808833333333,
          -73.92471996031746,
          -73.88153715053764,
          -73.78834991341992,
          -73.79042,
          -73.7985025,
          -73.97570154285714,
          -73.830565,
          -73.81922884615385,
          -73.90178942857142,
          -73.9793955106383,
          -73.74460055555556,
          -74.13456,
          -73.9972290909091,
          -73.730012,
          -73.93820013035382,
          -73.90244951612902,
          -73.98781817782657,
          -73.946535,
          -73.91103833333334,
          -74.15921625,
          -73.899919,
          -73.91584900000001,
          -73.87912548387098,
          -74.095325,
          -73.97582011003236,
          -73.95967211009174,
          -73.91585,
          -73.96175826589595,
          -73.91630176470589,
          -73.85538066666666,
          -73.9058561111111,
          -73.9198715,
          -73.91650166666666,
          -73.9055175,
          -73.97602859793815,
          -73.97393571428572,
          -73.85921666666667,
          -74.092958,
          -74.11747,
          -74.102124,
          -74.15781,
          -73.99305166666666,
          -73.99508252964426,
          -73.898328,
          -73.87942096774194,
          -74.11859999999999,
          -73.86451,
          -73.84736258064515,
          -73.97895359683794,
          -73.8638717948718,
          -73.83207647058823,
          -73.84316,
          -73.9266202173913,
          -74.13383222222222,
          -74.201255,
          -73.96805361344538,
          -73.95527491588784,
          -73.74315366666666,
          -74.12150421052631,
          -74.00979632911393,
          -73.86168273584906,
          -73.83000361702128,
          -74.12429,
          -73.90590231678487,
          -73.91206363636364,
          -73.8137830357143,
          -73.9485561038961,
          -74.07099142857143,
          -73.73445610169492,
          -74.21017,
          -73.83347,
          -74.00872000000001,
          -73.95208219512195,
          -74.06672428571427,
          -74.09649999999999,
          -74.00202427374302,
          -73.86991266666668,
          -74.08733125,
          -73.804218,
          -73.98542095070422,
          -73.76242811764706,
          -73.916775,
          -73.76206763157894,
          -74.08182270833333,
          -74.07849518518518,
          -73.97830351351352,
          -73.92070933884297,
          -74.00340964102564,
          -73.98549086805556,
          -73.82177791666668,
          -74.110105,
          -74.08646476190476,
          -74.23939,
          -73.89131363636363,
          -74.00740011299435,
          -73.99578013888889,
          -73.85246285714285,
          -73.9101619047619,
          -73.95473966073415,
          -73.97373466260781,
          -73.86715545454545,
          -73.98331147058823,
          -73.8535778,
          -73.93836130144605,
          -74.11595888888888,
          -73.878455,
          -74.004077890625,
          -73.846981,
          -74.13366500000001,
          -73.81864999999999,
          -73.85814675,
          -73.95185375510205,
          -74.13217,
          -73.97798974522293,
          -73.8582325,
          -73.86793909090909,
          -74.19826,
          -73.9027229787234
         ],
         "marker": {
          "color": [
           87.5952380952381,
           67.25,
           115,
           171.7792207792208,
           117.18777777777778,
           81.76470588235294,
           367.5571428571429,
           144.43262411347519,
           142,
           102.5,
           75.42857142857143,
           157.94871794871796,
           87.47058823529412,
           107.67824448034465,
           171.5,
           99.35714285714286,
           77.125,
           75.78666666666666,
           106.7,
           176.135593220339,
           63.06617647058823,
           213.33333333333334,
           105.875,
           131.93333333333334,
           57.10526315789474,
           209.06493506493507,
           76.45901639344262,
           47.333333333333336,
           84.80040567951319,
           81.73076923076923,
           104.36734693877551,
           175.91416309012877,
           63,
           139.75,
           249.73854447439354,
           161.49728260869566,
           173,
           191.94230769230768,
           87.46428571428571,
           112.76190476190476,
           84.93333333333334,
           181.89335664335664,
           77.5,
           211.92929292929293,
           88,
           162.95238095238096,
           58.19230769230769,
           86.18,
           73.78125,
           123.70588235294117,
           59.171875,
           112.480179028133,
           128.9037037037037,
           196.30555555555554,
           95.02912621359224,
           79.42857142857143,
           82.75,
           150.34939759036143,
           93.41666666666667,
           81.18378378378378,
           104.222,
           133.1987466427932,
           85,
           85.42660550458716,
           186.0831084727469,
           141.69230769230768,
           82,
           94.72727272727273,
           80.45991561181435,
           141.66666666666666,
           68.2,
           165.86206896551724,
           75.08333333333333,
           225.49059139784947,
           92.21256038647343,
           341.925,
           126.43373493975903,
           93.51408450704226,
           69.44444444444444,
           121.625,
           151.37423312883436,
           93.81818181818181,
           800,
           99.5,
           90.79629629629629,
           158.80161943319837,
           222.75443786982248,
           68.66666666666667,
           57.666666666666664,
           79.01470588235294,
           100.6,
           144.82242152466367,
           263.40561224489795,
           159.14285714285714,
           118.97404063205417,
           204.79417773237998,
           71.11111111111111,
           88.64285714285714,
           135.75,
           115.4,
           100,
           118.33333333333333,
           50.5,
           88.89682539682539,
           80.89784946236558,
           95.77056277056278,
           182.94736842105263,
           132.125,
           92.89142857142858,
           88.375,
           112.3076923076923,
           77.92857142857143,
           202.40851063829788,
           95.33333333333333,
           157.5,
           222.06611570247935,
           75.2,
           127.46554934823091,
           91.91935483870968,
           186.31284302963775,
           103.5,
           89.16666666666667,
           94.625,
           83.64545454545454,
           83.3,
           109.58064516129032,
           91.83333333333333,
           282.7190938511327,
           80.33944954128441,
           179.75,
           114.78323699421965,
           76.94117647058823,
           69.33333333333333,
           83.44444444444444,
           88.91666666666667,
           58.5,
           77.5,
           220.95876288659792,
           151.64285714285714,
           274.6666666666667,
           101.8,
           57,
           57.4,
           76,
           295.71794871794873,
           230.13833992094862,
           79.9,
           75.54838709677419,
           81.2,
           64,
           85.2741935483871,
           176.31225296442688,
           69.07692307692308,
           105,
           93.60714285714286,
           79.8913043478261,
           90.11111111111111,
           409.5,
           173.37254901960785,
           110.40186915887851,
           83.93333333333334,
           336,
           143.45569620253164,
           83.87735849056604,
           87.11702127659575,
           78,
           77.18439716312056,
           442.09090909090907,
           132.17857142857142,
           113.25974025974025,
           111.85714285714286,
           76.69491525423729,
           75,
           69.23076923076923,
           487.85714285714283,
           105.77439024390245,
           152.71428571428572,
           70,
           287.1033519553073,
           53.46666666666667,
           89.25,
           82.4,
           146.72535211267606,
           94.23529411764706,
           154.75,
           100.82894736842105,
           118.14583333333333,
           98.96296296296296,
           169.1081081081081,
           84.86501377410468,
           113.04102564102564,
           248.01388888888889,
           91.04166666666667,
           169,
           76.19047619047619,
           144.85714285714286,
           51.54545454545455,
           490.638418079096,
           127.06944444444444,
           137.14285714285714,
           69.57142857142857,
           188.94827586206895,
           210.91831557584982,
           113.81818181818181,
           187.1764705882353,
           85.58,
           89.6106785317019,
           80.55555555555556,
           122,
           267.6822916666667,
           122.2,
           71.5,
           107.54545454545455,
           96.75,
           143.80280612244897,
           249,
           138.9936305732484,
           67.17045454545455,
           60.09090909090909,
           700,
           85.09787234042552
          ],
          "coloraxis": "coloraxis"
         },
         "mode": "markers",
         "name": "",
         "showlegend": false,
         "subplot": "mapbox",
         "type": "scattermapbox"
        }
       ],
       "layout": {
        "coloraxis": {
         "colorbar": {
          "title": {
           "text": "Average Price"
          }
         },
         "colorscale": [
          [
           0,
           "#0d0887"
          ],
          [
           0.1111111111111111,
           "#46039f"
          ],
          [
           0.2222222222222222,
           "#7201a8"
          ],
          [
           0.3333333333333333,
           "#9c179e"
          ],
          [
           0.4444444444444444,
           "#bd3786"
          ],
          [
           0.5555555555555556,
           "#d8576b"
          ],
          [
           0.6666666666666666,
           "#ed7953"
          ],
          [
           0.7777777777777778,
           "#fb9f3a"
          ],
          [
           0.8888888888888888,
           "#fdca26"
          ],
          [
           1,
           "#f0f921"
          ]
         ]
        },
        "legend": {
         "tracegroupgap": 0
        },
        "mapbox": {
         "center": {
          "lat": 40.71,
          "lon": -74.006
         },
         "domain": {
          "x": [
           0,
           1
          ],
          "y": [
           0,
           1
          ]
         },
         "style": "carto-positron",
         "zoom": 8.7
        },
        "template": {
         "data": {
          "bar": [
           {
            "error_x": {
             "color": "#2a3f5f"
            },
            "error_y": {
             "color": "#2a3f5f"
            },
            "marker": {
             "line": {
              "color": "#E5ECF6",
              "width": 0.5
             },
             "pattern": {
              "fillmode": "overlay",
              "size": 10,
              "solidity": 0.2
             }
            },
            "type": "bar"
           }
          ],
          "barpolar": [
           {
            "marker": {
             "line": {
              "color": "#E5ECF6",
              "width": 0.5
             },
             "pattern": {
              "fillmode": "overlay",
              "size": 10,
              "solidity": 0.2
             }
            },
            "type": "barpolar"
           }
          ],
          "carpet": [
           {
            "aaxis": {
             "endlinecolor": "#2a3f5f",
             "gridcolor": "white",
             "linecolor": "white",
             "minorgridcolor": "white",
             "startlinecolor": "#2a3f5f"
            },
            "baxis": {
             "endlinecolor": "#2a3f5f",
             "gridcolor": "white",
             "linecolor": "white",
             "minorgridcolor": "white",
             "startlinecolor": "#2a3f5f"
            },
            "type": "carpet"
           }
          ],
          "choropleth": [
           {
            "colorbar": {
             "outlinewidth": 0,
             "ticks": ""
            },
            "type": "choropleth"
           }
          ],
          "contour": [
           {
            "colorbar": {
             "outlinewidth": 0,
             "ticks": ""
            },
            "colorscale": [
             [
              0,
              "#0d0887"
             ],
             [
              0.1111111111111111,
              "#46039f"
             ],
             [
              0.2222222222222222,
              "#7201a8"
             ],
             [
              0.3333333333333333,
              "#9c179e"
             ],
             [
              0.4444444444444444,
              "#bd3786"
             ],
             [
              0.5555555555555556,
              "#d8576b"
             ],
             [
              0.6666666666666666,
              "#ed7953"
             ],
             [
              0.7777777777777778,
              "#fb9f3a"
             ],
             [
              0.8888888888888888,
              "#fdca26"
             ],
             [
              1,
              "#f0f921"
             ]
            ],
            "type": "contour"
           }
          ],
          "contourcarpet": [
           {
            "colorbar": {
             "outlinewidth": 0,
             "ticks": ""
            },
            "type": "contourcarpet"
           }
          ],
          "heatmap": [
           {
            "colorbar": {
             "outlinewidth": 0,
             "ticks": ""
            },
            "colorscale": [
             [
              0,
              "#0d0887"
             ],
             [
              0.1111111111111111,
              "#46039f"
             ],
             [
              0.2222222222222222,
              "#7201a8"
             ],
             [
              0.3333333333333333,
              "#9c179e"
             ],
             [
              0.4444444444444444,
              "#bd3786"
             ],
             [
              0.5555555555555556,
              "#d8576b"
             ],
             [
              0.6666666666666666,
              "#ed7953"
             ],
             [
              0.7777777777777778,
              "#fb9f3a"
             ],
             [
              0.8888888888888888,
              "#fdca26"
             ],
             [
              1,
              "#f0f921"
             ]
            ],
            "type": "heatmap"
           }
          ],
          "heatmapgl": [
           {
            "colorbar": {
             "outlinewidth": 0,
             "ticks": ""
            },
            "colorscale": [
             [
              0,
              "#0d0887"
             ],
             [
              0.1111111111111111,
              "#46039f"
             ],
             [
              0.2222222222222222,
              "#7201a8"
             ],
             [
              0.3333333333333333,
              "#9c179e"
             ],
             [
              0.4444444444444444,
              "#bd3786"
             ],
             [
              0.5555555555555556,
              "#d8576b"
             ],
             [
              0.6666666666666666,
              "#ed7953"
             ],
             [
              0.7777777777777778,
              "#fb9f3a"
             ],
             [
              0.8888888888888888,
              "#fdca26"
             ],
             [
              1,
              "#f0f921"
             ]
            ],
            "type": "heatmapgl"
           }
          ],
          "histogram": [
           {
            "marker": {
             "pattern": {
              "fillmode": "overlay",
              "size": 10,
              "solidity": 0.2
             }
            },
            "type": "histogram"
           }
          ],
          "histogram2d": [
           {
            "colorbar": {
             "outlinewidth": 0,
             "ticks": ""
            },
            "colorscale": [
             [
              0,
              "#0d0887"
             ],
             [
              0.1111111111111111,
              "#46039f"
             ],
             [
              0.2222222222222222,
              "#7201a8"
             ],
             [
              0.3333333333333333,
              "#9c179e"
             ],
             [
              0.4444444444444444,
              "#bd3786"
             ],
             [
              0.5555555555555556,
              "#d8576b"
             ],
             [
              0.6666666666666666,
              "#ed7953"
             ],
             [
              0.7777777777777778,
              "#fb9f3a"
             ],
             [
              0.8888888888888888,
              "#fdca26"
             ],
             [
              1,
              "#f0f921"
             ]
            ],
            "type": "histogram2d"
           }
          ],
          "histogram2dcontour": [
           {
            "colorbar": {
             "outlinewidth": 0,
             "ticks": ""
            },
            "colorscale": [
             [
              0,
              "#0d0887"
             ],
             [
              0.1111111111111111,
              "#46039f"
             ],
             [
              0.2222222222222222,
              "#7201a8"
             ],
             [
              0.3333333333333333,
              "#9c179e"
             ],
             [
              0.4444444444444444,
              "#bd3786"
             ],
             [
              0.5555555555555556,
              "#d8576b"
             ],
             [
              0.6666666666666666,
              "#ed7953"
             ],
             [
              0.7777777777777778,
              "#fb9f3a"
             ],
             [
              0.8888888888888888,
              "#fdca26"
             ],
             [
              1,
              "#f0f921"
             ]
            ],
            "type": "histogram2dcontour"
           }
          ],
          "mesh3d": [
           {
            "colorbar": {
             "outlinewidth": 0,
             "ticks": ""
            },
            "type": "mesh3d"
           }
          ],
          "parcoords": [
           {
            "line": {
             "colorbar": {
              "outlinewidth": 0,
              "ticks": ""
             }
            },
            "type": "parcoords"
           }
          ],
          "pie": [
           {
            "automargin": true,
            "type": "pie"
           }
          ],
          "scatter": [
           {
            "fillpattern": {
             "fillmode": "overlay",
             "size": 10,
             "solidity": 0.2
            },
            "type": "scatter"
           }
          ],
          "scatter3d": [
           {
            "line": {
             "colorbar": {
              "outlinewidth": 0,
              "ticks": ""
             }
            },
            "marker": {
             "colorbar": {
              "outlinewidth": 0,
              "ticks": ""
             }
            },
            "type": "scatter3d"
           }
          ],
          "scattercarpet": [
           {
            "marker": {
             "colorbar": {
              "outlinewidth": 0,
              "ticks": ""
             }
            },
            "type": "scattercarpet"
           }
          ],
          "scattergeo": [
           {
            "marker": {
             "colorbar": {
              "outlinewidth": 0,
              "ticks": ""
             }
            },
            "type": "scattergeo"
           }
          ],
          "scattergl": [
           {
            "marker": {
             "colorbar": {
              "outlinewidth": 0,
              "ticks": ""
             }
            },
            "type": "scattergl"
           }
          ],
          "scattermapbox": [
           {
            "marker": {
             "colorbar": {
              "outlinewidth": 0,
              "ticks": ""
             }
            },
            "type": "scattermapbox"
           }
          ],
          "scatterpolar": [
           {
            "marker": {
             "colorbar": {
              "outlinewidth": 0,
              "ticks": ""
             }
            },
            "type": "scatterpolar"
           }
          ],
          "scatterpolargl": [
           {
            "marker": {
             "colorbar": {
              "outlinewidth": 0,
              "ticks": ""
             }
            },
            "type": "scatterpolargl"
           }
          ],
          "scatterternary": [
           {
            "marker": {
             "colorbar": {
              "outlinewidth": 0,
              "ticks": ""
             }
            },
            "type": "scatterternary"
           }
          ],
          "surface": [
           {
            "colorbar": {
             "outlinewidth": 0,
             "ticks": ""
            },
            "colorscale": [
             [
              0,
              "#0d0887"
             ],
             [
              0.1111111111111111,
              "#46039f"
             ],
             [
              0.2222222222222222,
              "#7201a8"
             ],
             [
              0.3333333333333333,
              "#9c179e"
             ],
             [
              0.4444444444444444,
              "#bd3786"
             ],
             [
              0.5555555555555556,
              "#d8576b"
             ],
             [
              0.6666666666666666,
              "#ed7953"
             ],
             [
              0.7777777777777778,
              "#fb9f3a"
             ],
             [
              0.8888888888888888,
              "#fdca26"
             ],
             [
              1,
              "#f0f921"
             ]
            ],
            "type": "surface"
           }
          ],
          "table": [
           {
            "cells": {
             "fill": {
              "color": "#EBF0F8"
             },
             "line": {
              "color": "white"
             }
            },
            "header": {
             "fill": {
              "color": "#C8D4E3"
             },
             "line": {
              "color": "white"
             }
            },
            "type": "table"
           }
          ]
         },
         "layout": {
          "annotationdefaults": {
           "arrowcolor": "#2a3f5f",
           "arrowhead": 0,
           "arrowwidth": 1
          },
          "autotypenumbers": "strict",
          "coloraxis": {
           "colorbar": {
            "outlinewidth": 0,
            "ticks": ""
           }
          },
          "colorscale": {
           "diverging": [
            [
             0,
             "#8e0152"
            ],
            [
             0.1,
             "#c51b7d"
            ],
            [
             0.2,
             "#de77ae"
            ],
            [
             0.3,
             "#f1b6da"
            ],
            [
             0.4,
             "#fde0ef"
            ],
            [
             0.5,
             "#f7f7f7"
            ],
            [
             0.6,
             "#e6f5d0"
            ],
            [
             0.7,
             "#b8e186"
            ],
            [
             0.8,
             "#7fbc41"
            ],
            [
             0.9,
             "#4d9221"
            ],
            [
             1,
             "#276419"
            ]
           ],
           "sequential": [
            [
             0,
             "#0d0887"
            ],
            [
             0.1111111111111111,
             "#46039f"
            ],
            [
             0.2222222222222222,
             "#7201a8"
            ],
            [
             0.3333333333333333,
             "#9c179e"
            ],
            [
             0.4444444444444444,
             "#bd3786"
            ],
            [
             0.5555555555555556,
             "#d8576b"
            ],
            [
             0.6666666666666666,
             "#ed7953"
            ],
            [
             0.7777777777777778,
             "#fb9f3a"
            ],
            [
             0.8888888888888888,
             "#fdca26"
            ],
            [
             1,
             "#f0f921"
            ]
           ],
           "sequentialminus": [
            [
             0,
             "#0d0887"
            ],
            [
             0.1111111111111111,
             "#46039f"
            ],
            [
             0.2222222222222222,
             "#7201a8"
            ],
            [
             0.3333333333333333,
             "#9c179e"
            ],
            [
             0.4444444444444444,
             "#bd3786"
            ],
            [
             0.5555555555555556,
             "#d8576b"
            ],
            [
             0.6666666666666666,
             "#ed7953"
            ],
            [
             0.7777777777777778,
             "#fb9f3a"
            ],
            [
             0.8888888888888888,
             "#fdca26"
            ],
            [
             1,
             "#f0f921"
            ]
           ]
          },
          "colorway": [
           "#636efa",
           "#EF553B",
           "#00cc96",
           "#ab63fa",
           "#FFA15A",
           "#19d3f3",
           "#FF6692",
           "#B6E880",
           "#FF97FF",
           "#FECB52"
          ],
          "font": {
           "color": "#2a3f5f"
          },
          "geo": {
           "bgcolor": "white",
           "lakecolor": "white",
           "landcolor": "#E5ECF6",
           "showlakes": true,
           "showland": true,
           "subunitcolor": "white"
          },
          "hoverlabel": {
           "align": "left"
          },
          "hovermode": "closest",
          "mapbox": {
           "style": "light"
          },
          "paper_bgcolor": "white",
          "plot_bgcolor": "#E5ECF6",
          "polar": {
           "angularaxis": {
            "gridcolor": "white",
            "linecolor": "white",
            "ticks": ""
           },
           "bgcolor": "#E5ECF6",
           "radialaxis": {
            "gridcolor": "white",
            "linecolor": "white",
            "ticks": ""
           }
          },
          "scene": {
           "xaxis": {
            "backgroundcolor": "#E5ECF6",
            "gridcolor": "white",
            "gridwidth": 2,
            "linecolor": "white",
            "showbackground": true,
            "ticks": "",
            "zerolinecolor": "white"
           },
           "yaxis": {
            "backgroundcolor": "#E5ECF6",
            "gridcolor": "white",
            "gridwidth": 2,
            "linecolor": "white",
            "showbackground": true,
            "ticks": "",
            "zerolinecolor": "white"
           },
           "zaxis": {
            "backgroundcolor": "#E5ECF6",
            "gridcolor": "white",
            "gridwidth": 2,
            "linecolor": "white",
            "showbackground": true,
            "ticks": "",
            "zerolinecolor": "white"
           }
          },
          "shapedefaults": {
           "line": {
            "color": "#2a3f5f"
           }
          },
          "ternary": {
           "aaxis": {
            "gridcolor": "white",
            "linecolor": "white",
            "ticks": ""
           },
           "baxis": {
            "gridcolor": "white",
            "linecolor": "white",
            "ticks": ""
           },
           "bgcolor": "#E5ECF6",
           "caxis": {
            "gridcolor": "white",
            "linecolor": "white",
            "ticks": ""
           }
          },
          "title": {
           "x": 0.05
          },
          "xaxis": {
           "automargin": true,
           "gridcolor": "white",
           "linecolor": "white",
           "ticks": "",
           "title": {
            "standoff": 15
           },
           "zerolinecolor": "white",
           "zerolinewidth": 2
          },
          "yaxis": {
           "automargin": true,
           "gridcolor": "white",
           "linecolor": "white",
           "ticks": "",
           "title": {
            "standoff": 15
           },
           "zerolinecolor": "white",
           "zerolinewidth": 2
          }
         }
        },
        "title": {
         "text": "Average Price of Airbnb Listings in New York Neighborhoods"
        }
       }
      },
      "text/html": [
       "<div>                            <div id=\"0d244f38-3d97-49e6-a03d-086dfdee5355\" class=\"plotly-graph-div\" style=\"height:525px; width:100%;\"></div>            <script type=\"text/javascript\">                require([\"plotly\"], function(Plotly) {                    window.PLOTLYENV=window.PLOTLYENV || {};                                    if (document.getElementById(\"0d244f38-3d97-49e6-a03d-086dfdee5355\")) {                    Plotly.newPlot(                        \"0d244f38-3d97-49e6-a03d-086dfdee5355\",                        [{\"customdata\":[[\"Allerton\"],[\"Arden Heights\"],[\"Arrochar\"],[\"Arverne\"],[\"Astoria\"],[\"Bath Beach\"],[\"Battery Park City\"],[\"Bay Ridge\"],[\"Bay Terrace\"],[\"Bay Terrace, Staten Island\"],[\"Baychester\"],[\"Bayside\"],[\"Bayswater\"],[\"Bedford-Stuyvesant\"],[\"Belle Harbor\"],[\"Bellerose\"],[\"Belmont\"],[\"Bensonhurst\"],[\"Bergen Beach\"],[\"Boerum Hill\"],[\"Borough Park\"],[\"Breezy Point\"],[\"Briarwood\"],[\"Brighton Beach\"],[\"Bronxdale\"],[\"Brooklyn Heights\"],[\"Brownsville\"],[\"Bull's Head\"],[\"Bushwick\"],[\"Cambria Heights\"],[\"Canarsie\"],[\"Carroll Gardens\"],[\"Castle Hill\"],[\"Castleton Corners\"],[\"Chelsea\"],[\"Chinatown\"],[\"City Island\"],[\"Civic Center\"],[\"Claremont Village\"],[\"Clason Point\"],[\"Clifton\"],[\"Clinton Hill\"],[\"Co-op City\"],[\"Cobble Hill\"],[\"College Point\"],[\"Columbia St\"],[\"Concord\"],[\"Concourse\"],[\"Concourse Village\"],[\"Coney Island\"],[\"Corona\"],[\"Crown Heights\"],[\"Cypress Hills\"],[\"DUMBO\"],[\"Ditmars Steinway\"],[\"Dongan Hills\"],[\"Douglaston\"],[\"Downtown Brooklyn\"],[\"Dyker Heights\"],[\"East Elmhurst\"],[\"East Flatbush\"],[\"East Harlem\"],[\"East Morrisania\"],[\"East New York\"],[\"East Village\"],[\"Eastchester\"],[\"Edenwald\"],[\"Edgemere\"],[\"Elmhurst\"],[\"Eltingville\"],[\"Emerson Hill\"],[\"Far Rockaway\"],[\"Fieldston\"],[\"Financial District\"],[\"Flatbush\"],[\"Flatiron District\"],[\"Flatlands\"],[\"Flushing\"],[\"Fordham\"],[\"Forest Hills\"],[\"Fort Greene\"],[\"Fort Hamilton\"],[\"Fort Wadsworth\"],[\"Fresh Meadows\"],[\"Glendale\"],[\"Gowanus\"],[\"Gramercy\"],[\"Graniteville\"],[\"Grant City\"],[\"Gravesend\"],[\"Great Kills\"],[\"Greenpoint\"],[\"Greenwich Village\"],[\"Grymes Hill\"],[\"Harlem\"],[\"Hell's Kitchen\"],[\"Highbridge\"],[\"Hollis\"],[\"Holliswood\"],[\"Howard Beach\"],[\"Howland Hook\"],[\"Huguenot\"],[\"Hunts Point\"],[\"Inwood\"],[\"Jackson Heights\"],[\"Jamaica\"],[\"Jamaica Estates\"],[\"Jamaica Hills\"],[\"Kensington\"],[\"Kew Gardens\"],[\"Kew Gardens Hills\"],[\"Kingsbridge\"],[\"Kips Bay\"],[\"Laurelton\"],[\"Lighthouse Hill\"],[\"Little Italy\"],[\"Little Neck\"],[\"Long Island City\"],[\"Longwood\"],[\"Lower East Side\"],[\"Manhattan Beach\"],[\"Marble Hill\"],[\"Mariners Harbor\"],[\"Maspeth\"],[\"Melrose\"],[\"Middle Village\"],[\"Midland Beach\"],[\"Midtown\"],[\"Midwood\"],[\"Mill Basin\"],[\"Morningside Heights\"],[\"Morris Heights\"],[\"Morris Park\"],[\"Morrisania\"],[\"Mott Haven\"],[\"Mount Eden\"],[\"Mount Hope\"],[\"Murray Hill\"],[\"Navy Yard\"],[\"Neponsit\"],[\"New Brighton\"],[\"New Dorp\"],[\"New Dorp Beach\"],[\"New Springville\"],[\"NoHo\"],[\"Nolita\"],[\"North Riverdale\"],[\"Norwood\"],[\"Oakwood\"],[\"Olinville\"],[\"Ozone Park\"],[\"Park Slope\"],[\"Parkchester\"],[\"Pelham Bay\"],[\"Pelham Gardens\"],[\"Port Morris\"],[\"Port Richmond\"],[\"Prince's Bay\"],[\"Prospect Heights\"],[\"Prospect-Lefferts Gardens\"],[\"Queens Village\"],[\"Randall Manor\"],[\"Red Hook\"],[\"Rego Park\"],[\"Richmond Hill\"],[\"Richmondtown\"],[\"Ridgewood\"],[\"Riverdale\"],[\"Rockaway Beach\"],[\"Roosevelt Island\"],[\"Rosebank\"],[\"Rosedale\"],[\"Rossville\"],[\"Schuylerville\"],[\"Sea Gate\"],[\"Sheepshead Bay\"],[\"Shore Acres\"],[\"Silver Lake\"],[\"SoHo\"],[\"Soundview\"],[\"South Beach\"],[\"South Ozone Park\"],[\"South Slope\"],[\"Springfield Gardens\"],[\"Spuyten Duyvil\"],[\"St. Albans\"],[\"St. George\"],[\"Stapleton\"],[\"Stuyvesant Town\"],[\"Sunnyside\"],[\"Sunset Park\"],[\"Theater District\"],[\"Throgs Neck\"],[\"Todt Hill\"],[\"Tompkinsville\"],[\"Tottenville\"],[\"Tremont\"],[\"Tribeca\"],[\"Two Bridges\"],[\"Unionport\"],[\"University Heights\"],[\"Upper East Side\"],[\"Upper West Side\"],[\"Van Nest\"],[\"Vinegar Hill\"],[\"Wakefield\"],[\"Washington Heights\"],[\"West Brighton\"],[\"West Farms\"],[\"West Village\"],[\"Westchester Square\"],[\"Westerleigh\"],[\"Whitestone\"],[\"Williamsbridge\"],[\"Williamsburg\"],[\"Willowbrook\"],[\"Windsor Terrace\"],[\"Woodhaven\"],[\"Woodlawn\"],[\"Woodrow\"],[\"Woodside\"]],\"hovertemplate\":\"Latitude=%{lat}<br>Longitude=%{lon}<br>neighbourhood=%{customdata[0]}<br>Average Price=%{marker.color}<extra></extra>\",\"lat\":[40.865291666666664,40.55241,40.593899523809526,40.59185298701299,40.764299155555555,40.60413411764706,40.709964285714285,40.63142361702128,40.78066333333334,40.551435,40.87361571428572,40.759776153846154,40.60571823529411,40.687198887991386,40.57615125,40.731111428571424,40.855061666666664,40.612183466666664,40.623371000000006,40.68639096045198,40.63727345588235,40.56573,40.70975517857143,40.57841293333333,40.85473105263158,40.69479337662337,40.66467426229508,40.60115,40.69674103042596,40.69378230769231,40.638594285714284,40.6806352360515,40.81688888888888,40.6171025,40.74468665768194,40.71561961956522,40.84787222222222,40.713855384615385,40.83918535714286,40.811750476190475,40.619166,40.688114440559445,40.86481499999999,40.687267272727276,40.78480263157895,40.685023095238094,40.60201192307692,40.8269188,40.83005375,40.57593882352941,40.7429009375,40.67269851662404,40.68219525925925,40.70326583333333,40.7750295145631,40.580395714285714,40.75964125,40.694321927710845,40.6240875,40.76278367567568,40.64900038,40.79614334825425,40.831259,40.668212018348626,40.72676342687534,40.88085230769231,40.88803461538461,40.59467545454545,40.73993611814346,40.541043333333334,40.607162,40.597408620689656,40.8919425,40.70690612903226,40.64495351046699,40.74105225,40.62554265060241,40.754883967136145,40.86322158730159,40.721642777777774,40.69018822085889,40.61895781818182,40.59546,40.7390734375,40.70078425925926,40.67629947368421,40.73557207100592,40.62283,40.57893,40.595597794117644,40.549969,40.7279669147982,40.73066278061224,40.614848571428574,40.81602560195636,40.762156971399385,40.83548962962963,40.71452,40.7224525,40.661451,40.631294999999994,40.53946666666667,40.81552222222222,40.86531611111111,40.75174322580645,40.685045844155844,40.718346315789475,40.71358875,40.64174885714286,40.7083015625,40.724429615384615,40.87679828571429,40.74181514893617,40.67529277777778,40.576795000000004,40.71880008264463,40.764697999999996,40.7524518621974,40.82127806451613,40.718386871569706,40.579364999999996,40.87574083333333,40.63317875,40.729699,40.821535,40.716305806451615,40.57369666666667,40.75487114563107,40.62020688073394,40.612382499999995,40.80834164739884,40.84913117647059,40.85227933333333,40.82828111111111,40.8109975,40.842063333333336,40.8484305,40.74743463917525,40.69982142857143,40.57063,40.642607999999996,40.57044,40.564828,40.5845125,40.72700987179487,40.722145652173914,40.907599,40.87503580645161,40.560512,40.883655,40.68123887096774,40.6741683201581,40.83565,40.84935,40.86368392857143,40.80673391304348,40.63314888888888,40.5257,40.67753243697479,40.659284953271026,40.71459383333333,40.632749473684214,40.67721012658228,40.72680462264151,40.69398457446809,40.57093,40.70407765957447,40.88735181818182,40.58743357142857,40.763282987012985,40.61214857142857,40.65946898305084,40.5479,40.83585769230769,40.57711857142857,40.59623030487805,40.608822857142854,40.623395,40.72437955307263,40.826920666666666,40.59120125,40.67225925,40.66492566901409,40.66768988235294,40.88109,40.69566763157894,40.643308125,40.632663333333326,40.731838918918925,40.74241371900826,40.65252517948718,40.7598365625,40.824156249999994,40.603375,40.633134523809524,40.507349999999995,40.84367909090909,40.71774378531073,40.71172722222222,40.828294285714286,40.85805809523809,40.77274807007786,40.78846260273973,40.84326,40.70154676470588,40.893178400000004,40.84449530589544,40.63193222222222,40.84135,40.7343511328125,40.839690000000004,40.613895,40.78423818181818,40.87893525,40.71256288520408,40.59886,40.65461184713376,40.691967727272726,40.897420909090904,40.53884,40.7459250212766],\"legendgroup\":\"\",\"lon\":[-73.85872714285715,-74.1822525,-74.07460047619048,-73.7948390909091,-73.92000176666667,-74.00637411764706,-74.016585,-74.02623751773051,-73.78305,-74.140495,-73.84296714285713,-73.76862512820513,-73.76258235294118,-73.9398129267636,-73.849045,-73.7263957142857,-73.88710875,-73.9940088,-73.90920600000001,-73.98548593220339,-73.99703058823529,-73.86990333333334,-73.81381392857143,-73.96129933333333,-73.86628736842106,-73.99432435064935,-73.91421426229508,-74.16637166666668,-73.92037348478702,-73.73592038461538,-73.9012931292517,-73.99616004291845,-73.84700000000001,-74.1230075,-73.99811000898472,-73.99390682065217,-73.78705444444444,-74.00362826923077,-73.90927857142857,-73.85678952380952,-74.08156133333334,-73.96440064685315,-73.82324,-73.99555353535354,-73.84378736842105,-74.0024573809524,-74.08418653846154,-73.92446939999999,-73.9178053125,-73.98858176470588,-73.86100015625,-73.94632447570332,-73.88409666666666,-73.98789888888888,-73.91055352750809,-74.09334142857142,-73.73612625,-73.98493807228915,-74.0104725,-73.87868027027028,-73.93927633999999,-73.94228510295434,-73.88883799999999,-73.88419665137614,-73.9838571559633,-73.83472230769232,-73.83608692307692,-73.77372818181819,-73.87870569620254,-74.15436333333334,-74.12800999999999,-73.75450620689656,-73.90194166666667,-74.00916733870967,-73.96051922705314,-73.98841350000001,-73.93257578313253,-73.81951089201878,-73.8943592063492,-73.84672479166666,-73.97410271983641,-74.03223527272726,-74.06092,-73.788746875,-73.8892062962963,-73.98865825910931,-73.98429849112425,-74.16575333333334,-74.10933,-73.97689617647059,-74.144807,-73.95054533632286,-73.99856306122449,-74.09376285714286,-73.948005579383,-73.99147516343209,-73.92785185185186,-73.76707642857143,-73.77063,-73.845106,-74.17262,-74.17168,-73.88808833333333,-73.92471996031746,-73.88153715053764,-73.78834991341992,-73.79042,-73.7985025,-73.97570154285714,-73.830565,-73.81922884615385,-73.90178942857142,-73.9793955106383,-73.74460055555556,-74.13456,-73.9972290909091,-73.730012,-73.93820013035382,-73.90244951612902,-73.98781817782657,-73.946535,-73.91103833333334,-74.15921625,-73.899919,-73.91584900000001,-73.87912548387098,-74.095325,-73.97582011003236,-73.95967211009174,-73.91585,-73.96175826589595,-73.91630176470589,-73.85538066666666,-73.9058561111111,-73.9198715,-73.91650166666666,-73.9055175,-73.97602859793815,-73.97393571428572,-73.85921666666667,-74.092958,-74.11747,-74.102124,-74.15781,-73.99305166666666,-73.99508252964426,-73.898328,-73.87942096774194,-74.11859999999999,-73.86451,-73.84736258064515,-73.97895359683794,-73.8638717948718,-73.83207647058823,-73.84316,-73.9266202173913,-74.13383222222222,-74.201255,-73.96805361344538,-73.95527491588784,-73.74315366666666,-74.12150421052631,-74.00979632911393,-73.86168273584906,-73.83000361702128,-74.12429,-73.90590231678487,-73.91206363636364,-73.8137830357143,-73.9485561038961,-74.07099142857143,-73.73445610169492,-74.21017,-73.83347,-74.00872000000001,-73.95208219512195,-74.06672428571427,-74.09649999999999,-74.00202427374302,-73.86991266666668,-74.08733125,-73.804218,-73.98542095070422,-73.76242811764706,-73.916775,-73.76206763157894,-74.08182270833333,-74.07849518518518,-73.97830351351352,-73.92070933884297,-74.00340964102564,-73.98549086805556,-73.82177791666668,-74.110105,-74.08646476190476,-74.23939,-73.89131363636363,-74.00740011299435,-73.99578013888889,-73.85246285714285,-73.9101619047619,-73.95473966073415,-73.97373466260781,-73.86715545454545,-73.98331147058823,-73.8535778,-73.93836130144605,-74.11595888888888,-73.878455,-74.004077890625,-73.846981,-74.13366500000001,-73.81864999999999,-73.85814675,-73.95185375510205,-74.13217,-73.97798974522293,-73.8582325,-73.86793909090909,-74.19826,-73.9027229787234],\"marker\":{\"color\":[87.5952380952381,67.25,115.0,171.7792207792208,117.18777777777778,81.76470588235294,367.5571428571429,144.43262411347519,142.0,102.5,75.42857142857143,157.94871794871796,87.47058823529412,107.67824448034465,171.5,99.35714285714286,77.125,75.78666666666666,106.7,176.135593220339,63.06617647058823,213.33333333333334,105.875,131.93333333333334,57.10526315789474,209.06493506493507,76.45901639344262,47.333333333333336,84.80040567951319,81.73076923076923,104.36734693877551,175.91416309012877,63.0,139.75,249.73854447439354,161.49728260869566,173.0,191.94230769230768,87.46428571428571,112.76190476190476,84.93333333333334,181.89335664335664,77.5,211.92929292929293,88.0,162.95238095238096,58.19230769230769,86.18,73.78125,123.70588235294117,59.171875,112.480179028133,128.9037037037037,196.30555555555554,95.02912621359224,79.42857142857143,82.75,150.34939759036143,93.41666666666667,81.18378378378378,104.222,133.1987466427932,85.0,85.42660550458716,186.0831084727469,141.69230769230768,82.0,94.72727272727273,80.45991561181435,141.66666666666666,68.2,165.86206896551724,75.08333333333333,225.49059139784947,92.21256038647343,341.925,126.43373493975903,93.51408450704226,69.44444444444444,121.625,151.37423312883436,93.81818181818181,800.0,99.5,90.79629629629629,158.80161943319837,222.75443786982248,68.66666666666667,57.666666666666664,79.01470588235294,100.6,144.82242152466367,263.40561224489795,159.14285714285714,118.97404063205417,204.79417773237998,71.11111111111111,88.64285714285714,135.75,115.4,100.0,118.33333333333333,50.5,88.89682539682539,80.89784946236558,95.77056277056278,182.94736842105263,132.125,92.89142857142858,88.375,112.3076923076923,77.92857142857143,202.40851063829788,95.33333333333333,157.5,222.06611570247935,75.2,127.46554934823091,91.91935483870968,186.31284302963775,103.5,89.16666666666667,94.625,83.64545454545454,83.3,109.58064516129032,91.83333333333333,282.7190938511327,80.33944954128441,179.75,114.78323699421965,76.94117647058823,69.33333333333333,83.44444444444444,88.91666666666667,58.5,77.5,220.95876288659792,151.64285714285714,274.6666666666667,101.8,57.0,57.4,76.0,295.71794871794873,230.13833992094862,79.9,75.54838709677419,81.2,64.0,85.2741935483871,176.31225296442688,69.07692307692308,105.0,93.60714285714286,79.8913043478261,90.11111111111111,409.5,173.37254901960785,110.40186915887851,83.93333333333334,336.0,143.45569620253164,83.87735849056604,87.11702127659575,78.0,77.18439716312056,442.09090909090907,132.17857142857142,113.25974025974025,111.85714285714286,76.69491525423729,75.0,69.23076923076923,487.85714285714283,105.77439024390245,152.71428571428572,70.0,287.1033519553073,53.46666666666667,89.25,82.4,146.72535211267606,94.23529411764706,154.75,100.82894736842105,118.14583333333333,98.96296296296296,169.1081081081081,84.86501377410468,113.04102564102564,248.01388888888889,91.04166666666667,169.0,76.19047619047619,144.85714285714286,51.54545454545455,490.638418079096,127.06944444444444,137.14285714285714,69.57142857142857,188.94827586206895,210.91831557584982,113.81818181818181,187.1764705882353,85.58,89.6106785317019,80.55555555555556,122.0,267.6822916666667,122.2,71.5,107.54545454545455,96.75,143.80280612244897,249.0,138.9936305732484,67.17045454545455,60.09090909090909,700.0,85.09787234042552],\"coloraxis\":\"coloraxis\"},\"mode\":\"markers\",\"name\":\"\",\"showlegend\":false,\"subplot\":\"mapbox\",\"type\":\"scattermapbox\"}],                        {\"template\":{\"data\":{\"histogram2dcontour\":[{\"type\":\"histogram2dcontour\",\"colorbar\":{\"outlinewidth\":0,\"ticks\":\"\"},\"colorscale\":[[0.0,\"#0d0887\"],[0.1111111111111111,\"#46039f\"],[0.2222222222222222,\"#7201a8\"],[0.3333333333333333,\"#9c179e\"],[0.4444444444444444,\"#bd3786\"],[0.5555555555555556,\"#d8576b\"],[0.6666666666666666,\"#ed7953\"],[0.7777777777777778,\"#fb9f3a\"],[0.8888888888888888,\"#fdca26\"],[1.0,\"#f0f921\"]]}],\"choropleth\":[{\"type\":\"choropleth\",\"colorbar\":{\"outlinewidth\":0,\"ticks\":\"\"}}],\"histogram2d\":[{\"type\":\"histogram2d\",\"colorbar\":{\"outlinewidth\":0,\"ticks\":\"\"},\"colorscale\":[[0.0,\"#0d0887\"],[0.1111111111111111,\"#46039f\"],[0.2222222222222222,\"#7201a8\"],[0.3333333333333333,\"#9c179e\"],[0.4444444444444444,\"#bd3786\"],[0.5555555555555556,\"#d8576b\"],[0.6666666666666666,\"#ed7953\"],[0.7777777777777778,\"#fb9f3a\"],[0.8888888888888888,\"#fdca26\"],[1.0,\"#f0f921\"]]}],\"heatmap\":[{\"type\":\"heatmap\",\"colorbar\":{\"outlinewidth\":0,\"ticks\":\"\"},\"colorscale\":[[0.0,\"#0d0887\"],[0.1111111111111111,\"#46039f\"],[0.2222222222222222,\"#7201a8\"],[0.3333333333333333,\"#9c179e\"],[0.4444444444444444,\"#bd3786\"],[0.5555555555555556,\"#d8576b\"],[0.6666666666666666,\"#ed7953\"],[0.7777777777777778,\"#fb9f3a\"],[0.8888888888888888,\"#fdca26\"],[1.0,\"#f0f921\"]]}],\"heatmapgl\":[{\"type\":\"heatmapgl\",\"colorbar\":{\"outlinewidth\":0,\"ticks\":\"\"},\"colorscale\":[[0.0,\"#0d0887\"],[0.1111111111111111,\"#46039f\"],[0.2222222222222222,\"#7201a8\"],[0.3333333333333333,\"#9c179e\"],[0.4444444444444444,\"#bd3786\"],[0.5555555555555556,\"#d8576b\"],[0.6666666666666666,\"#ed7953\"],[0.7777777777777778,\"#fb9f3a\"],[0.8888888888888888,\"#fdca26\"],[1.0,\"#f0f921\"]]}],\"contourcarpet\":[{\"type\":\"contourcarpet\",\"colorbar\":{\"outlinewidth\":0,\"ticks\":\"\"}}],\"contour\":[{\"type\":\"contour\",\"colorbar\":{\"outlinewidth\":0,\"ticks\":\"\"},\"colorscale\":[[0.0,\"#0d0887\"],[0.1111111111111111,\"#46039f\"],[0.2222222222222222,\"#7201a8\"],[0.3333333333333333,\"#9c179e\"],[0.4444444444444444,\"#bd3786\"],[0.5555555555555556,\"#d8576b\"],[0.6666666666666666,\"#ed7953\"],[0.7777777777777778,\"#fb9f3a\"],[0.8888888888888888,\"#fdca26\"],[1.0,\"#f0f921\"]]}],\"surface\":[{\"type\":\"surface\",\"colorbar\":{\"outlinewidth\":0,\"ticks\":\"\"},\"colorscale\":[[0.0,\"#0d0887\"],[0.1111111111111111,\"#46039f\"],[0.2222222222222222,\"#7201a8\"],[0.3333333333333333,\"#9c179e\"],[0.4444444444444444,\"#bd3786\"],[0.5555555555555556,\"#d8576b\"],[0.6666666666666666,\"#ed7953\"],[0.7777777777777778,\"#fb9f3a\"],[0.8888888888888888,\"#fdca26\"],[1.0,\"#f0f921\"]]}],\"mesh3d\":[{\"type\":\"mesh3d\",\"colorbar\":{\"outlinewidth\":0,\"ticks\":\"\"}}],\"scatter\":[{\"fillpattern\":{\"fillmode\":\"overlay\",\"size\":10,\"solidity\":0.2},\"type\":\"scatter\"}],\"parcoords\":[{\"type\":\"parcoords\",\"line\":{\"colorbar\":{\"outlinewidth\":0,\"ticks\":\"\"}}}],\"scatterpolargl\":[{\"type\":\"scatterpolargl\",\"marker\":{\"colorbar\":{\"outlinewidth\":0,\"ticks\":\"\"}}}],\"bar\":[{\"error_x\":{\"color\":\"#2a3f5f\"},\"error_y\":{\"color\":\"#2a3f5f\"},\"marker\":{\"line\":{\"color\":\"#E5ECF6\",\"width\":0.5},\"pattern\":{\"fillmode\":\"overlay\",\"size\":10,\"solidity\":0.2}},\"type\":\"bar\"}],\"scattergeo\":[{\"type\":\"scattergeo\",\"marker\":{\"colorbar\":{\"outlinewidth\":0,\"ticks\":\"\"}}}],\"scatterpolar\":[{\"type\":\"scatterpolar\",\"marker\":{\"colorbar\":{\"outlinewidth\":0,\"ticks\":\"\"}}}],\"histogram\":[{\"marker\":{\"pattern\":{\"fillmode\":\"overlay\",\"size\":10,\"solidity\":0.2}},\"type\":\"histogram\"}],\"scattergl\":[{\"type\":\"scattergl\",\"marker\":{\"colorbar\":{\"outlinewidth\":0,\"ticks\":\"\"}}}],\"scatter3d\":[{\"type\":\"scatter3d\",\"line\":{\"colorbar\":{\"outlinewidth\":0,\"ticks\":\"\"}},\"marker\":{\"colorbar\":{\"outlinewidth\":0,\"ticks\":\"\"}}}],\"scattermapbox\":[{\"type\":\"scattermapbox\",\"marker\":{\"colorbar\":{\"outlinewidth\":0,\"ticks\":\"\"}}}],\"scatterternary\":[{\"type\":\"scatterternary\",\"marker\":{\"colorbar\":{\"outlinewidth\":0,\"ticks\":\"\"}}}],\"scattercarpet\":[{\"type\":\"scattercarpet\",\"marker\":{\"colorbar\":{\"outlinewidth\":0,\"ticks\":\"\"}}}],\"carpet\":[{\"aaxis\":{\"endlinecolor\":\"#2a3f5f\",\"gridcolor\":\"white\",\"linecolor\":\"white\",\"minorgridcolor\":\"white\",\"startlinecolor\":\"#2a3f5f\"},\"baxis\":{\"endlinecolor\":\"#2a3f5f\",\"gridcolor\":\"white\",\"linecolor\":\"white\",\"minorgridcolor\":\"white\",\"startlinecolor\":\"#2a3f5f\"},\"type\":\"carpet\"}],\"table\":[{\"cells\":{\"fill\":{\"color\":\"#EBF0F8\"},\"line\":{\"color\":\"white\"}},\"header\":{\"fill\":{\"color\":\"#C8D4E3\"},\"line\":{\"color\":\"white\"}},\"type\":\"table\"}],\"barpolar\":[{\"marker\":{\"line\":{\"color\":\"#E5ECF6\",\"width\":0.5},\"pattern\":{\"fillmode\":\"overlay\",\"size\":10,\"solidity\":0.2}},\"type\":\"barpolar\"}],\"pie\":[{\"automargin\":true,\"type\":\"pie\"}]},\"layout\":{\"autotypenumbers\":\"strict\",\"colorway\":[\"#636efa\",\"#EF553B\",\"#00cc96\",\"#ab63fa\",\"#FFA15A\",\"#19d3f3\",\"#FF6692\",\"#B6E880\",\"#FF97FF\",\"#FECB52\"],\"font\":{\"color\":\"#2a3f5f\"},\"hovermode\":\"closest\",\"hoverlabel\":{\"align\":\"left\"},\"paper_bgcolor\":\"white\",\"plot_bgcolor\":\"#E5ECF6\",\"polar\":{\"bgcolor\":\"#E5ECF6\",\"angularaxis\":{\"gridcolor\":\"white\",\"linecolor\":\"white\",\"ticks\":\"\"},\"radialaxis\":{\"gridcolor\":\"white\",\"linecolor\":\"white\",\"ticks\":\"\"}},\"ternary\":{\"bgcolor\":\"#E5ECF6\",\"aaxis\":{\"gridcolor\":\"white\",\"linecolor\":\"white\",\"ticks\":\"\"},\"baxis\":{\"gridcolor\":\"white\",\"linecolor\":\"white\",\"ticks\":\"\"},\"caxis\":{\"gridcolor\":\"white\",\"linecolor\":\"white\",\"ticks\":\"\"}},\"coloraxis\":{\"colorbar\":{\"outlinewidth\":0,\"ticks\":\"\"}},\"colorscale\":{\"sequential\":[[0.0,\"#0d0887\"],[0.1111111111111111,\"#46039f\"],[0.2222222222222222,\"#7201a8\"],[0.3333333333333333,\"#9c179e\"],[0.4444444444444444,\"#bd3786\"],[0.5555555555555556,\"#d8576b\"],[0.6666666666666666,\"#ed7953\"],[0.7777777777777778,\"#fb9f3a\"],[0.8888888888888888,\"#fdca26\"],[1.0,\"#f0f921\"]],\"sequentialminus\":[[0.0,\"#0d0887\"],[0.1111111111111111,\"#46039f\"],[0.2222222222222222,\"#7201a8\"],[0.3333333333333333,\"#9c179e\"],[0.4444444444444444,\"#bd3786\"],[0.5555555555555556,\"#d8576b\"],[0.6666666666666666,\"#ed7953\"],[0.7777777777777778,\"#fb9f3a\"],[0.8888888888888888,\"#fdca26\"],[1.0,\"#f0f921\"]],\"diverging\":[[0,\"#8e0152\"],[0.1,\"#c51b7d\"],[0.2,\"#de77ae\"],[0.3,\"#f1b6da\"],[0.4,\"#fde0ef\"],[0.5,\"#f7f7f7\"],[0.6,\"#e6f5d0\"],[0.7,\"#b8e186\"],[0.8,\"#7fbc41\"],[0.9,\"#4d9221\"],[1,\"#276419\"]]},\"xaxis\":{\"gridcolor\":\"white\",\"linecolor\":\"white\",\"ticks\":\"\",\"title\":{\"standoff\":15},\"zerolinecolor\":\"white\",\"automargin\":true,\"zerolinewidth\":2},\"yaxis\":{\"gridcolor\":\"white\",\"linecolor\":\"white\",\"ticks\":\"\",\"title\":{\"standoff\":15},\"zerolinecolor\":\"white\",\"automargin\":true,\"zerolinewidth\":2},\"scene\":{\"xaxis\":{\"backgroundcolor\":\"#E5ECF6\",\"gridcolor\":\"white\",\"linecolor\":\"white\",\"showbackground\":true,\"ticks\":\"\",\"zerolinecolor\":\"white\",\"gridwidth\":2},\"yaxis\":{\"backgroundcolor\":\"#E5ECF6\",\"gridcolor\":\"white\",\"linecolor\":\"white\",\"showbackground\":true,\"ticks\":\"\",\"zerolinecolor\":\"white\",\"gridwidth\":2},\"zaxis\":{\"backgroundcolor\":\"#E5ECF6\",\"gridcolor\":\"white\",\"linecolor\":\"white\",\"showbackground\":true,\"ticks\":\"\",\"zerolinecolor\":\"white\",\"gridwidth\":2}},\"shapedefaults\":{\"line\":{\"color\":\"#2a3f5f\"}},\"annotationdefaults\":{\"arrowcolor\":\"#2a3f5f\",\"arrowhead\":0,\"arrowwidth\":1},\"geo\":{\"bgcolor\":\"white\",\"landcolor\":\"#E5ECF6\",\"subunitcolor\":\"white\",\"showland\":true,\"showlakes\":true,\"lakecolor\":\"white\"},\"title\":{\"x\":0.05},\"mapbox\":{\"style\":\"light\"}}},\"mapbox\":{\"domain\":{\"x\":[0.0,1.0],\"y\":[0.0,1.0]},\"center\":{\"lat\":40.71,\"lon\":-74.006},\"zoom\":8.7,\"style\":\"carto-positron\"},\"coloraxis\":{\"colorbar\":{\"title\":{\"text\":\"Average Price\"}},\"colorscale\":[[0.0,\"#0d0887\"],[0.1111111111111111,\"#46039f\"],[0.2222222222222222,\"#7201a8\"],[0.3333333333333333,\"#9c179e\"],[0.4444444444444444,\"#bd3786\"],[0.5555555555555556,\"#d8576b\"],[0.6666666666666666,\"#ed7953\"],[0.7777777777777778,\"#fb9f3a\"],[0.8888888888888888,\"#fdca26\"],[1.0,\"#f0f921\"]]},\"legend\":{\"tracegroupgap\":0},\"title\":{\"text\":\"Average Price of Airbnb Listings in New York Neighborhoods\"}},                        {\"responsive\": true}                    ).then(function(){\n",
       "                            \n",
       "var gd = document.getElementById('0d244f38-3d97-49e6-a03d-086dfdee5355');\n",
       "var x = new MutationObserver(function (mutations, observer) {{\n",
       "        var display = window.getComputedStyle(gd).display;\n",
       "        if (!display || display === 'none') {{\n",
       "            console.log([gd, 'removed!']);\n",
       "            Plotly.purge(gd);\n",
       "            observer.disconnect();\n",
       "        }}\n",
       "}});\n",
       "\n",
       "// Listen for the removal of the full notebook cells\n",
       "var notebookContainer = gd.closest('#notebook-container');\n",
       "if (notebookContainer) {{\n",
       "    x.observe(notebookContainer, {childList: true});\n",
       "}}\n",
       "\n",
       "// Listen for the clearing of the current output cell\n",
       "var outputEl = gd.closest('.output');\n",
       "if (outputEl) {{\n",
       "    x.observe(outputEl, {childList: true});\n",
       "}}\n",
       "\n",
       "                        })                };                });            </script>        </div>"
      ]
     },
     "metadata": {},
     "output_type": "display_data"
    }
   ],
   "source": [
    "import plotly.express as px\n",
    "\n",
    "df_avg_price = df.groupby('neighbourhood', as_index=False).agg({'price': 'mean', 'latitude': 'mean', 'longitude': 'mean'})\n",
    "\n",
    "fig = px.scatter_mapbox(\n",
    "    df_avg_price,\n",
    "    lat='latitude',\n",
    "    lon='longitude',\n",
    "    color='price',\n",
    "    title='Average Price of Airbnb Listings in New York Neighborhoods',\n",
    "    labels={'latitude': 'Latitude', 'longitude': 'Longitude', 'price': 'Average Price'},\n",
    "    hover_data=['neighbourhood'],  \n",
    "    size_max=15,  \n",
    "    mapbox_style=\"carto-positron\", \n",
    ")\n",
    "\n",
    "fig.update_layout(\n",
    "    mapbox_center={'lat': 40.71, 'lon': -74.0060}, \n",
    "    mapbox_zoom=8.7,  \n",
    "    coloraxis_colorbar=dict(title='Average Price'),\n",
    ")\n",
    "\n",
    "fig.show()\n"
   ]
  },
  {
   "cell_type": "code",
   "execution_count": 15,
   "id": "a833aa98",
   "metadata": {},
   "outputs": [
    {
     "data": {
      "image/png": "[encoded data removed]",
      "text/plain": [
       "<Figure size 1200x800 with 1 Axes>"
      ]
     },
     "metadata": {},
     "output_type": "display_data"
    }
   ],
   "source": [
    "import seaborn as sns\n",
    "import matplotlib.pyplot as plt\n",
    "\n",
    "plt.figure(figsize=(12, 8))\n",
    "sns.boxplot(x='room_type', y='price', data=df)\n",
    "plt.title('Listing Prices Variation with Respect to Room Type')\n",
    "plt.xlabel('Room Type')\n",
    "plt.ylabel('Price')\n",
    "plt.show()\n"
   ]
  },
  {
   "cell_type": "code",
   "execution_count": 16,
   "id": "3accfecd",
   "metadata": {},
   "outputs": [
    {
     "data": {
      "image/png": "[encoded data removed]",
      "text/plain": [
       "<Figure size 1000x600 with 1 Axes>"
      ]
     },
     "metadata": {},
     "output_type": "display_data"
    }
   ],
   "source": [
    "import seaborn as sns\n",
    "import matplotlib.pyplot as plt\n",
    "\n",
    "plt.figure(figsize=(10, 6))\n",
    "ax = sns.barplot(x='room_type', y='price', data=df, estimator=np.mean)\n",
    "\n",
    "for p in ax.patches:\n",
    "    ax.annotate(f'{p.get_height():.2f}', (p.get_x() + p.get_width() / 2., p.get_height()),\n",
    "                ha='center', va='center', xytext=(0, 10), textcoords='offset points')\n",
    "\n",
    "plt.title('Mean Listing Prices Variation with Respect to Room Type (Bar Plot)')\n",
    "plt.xlabel('Room Type')\n",
    "plt.ylabel('Mean Price')\n",
    "plt.show()\n"
   ]
  },
  {
   "cell_type": "code",
   "execution_count": 17,
   "id": "220197cd",
   "metadata": {},
   "outputs": [
    {
     "data": {
      "image/png": "[encoded data removed]",
      "text/plain": [
       "<Figure size 1200x600 with 1 Axes>"
      ]
     },
     "metadata": {},
     "output_type": "display_data"
    }
   ],
   "source": [
    "\n",
    "plt.figure(figsize=(12, 6))\n",
    "sns.histplot(df['price'], bins=30, kde=True)\n",
    "plt.title('Price Distribution of Airbnb Listings')\n",
    "plt.xlabel('Price')\n",
    "plt.ylabel('Frequency')\n",
    "plt.show()"
   ]
  },
  {
   "cell_type": "code",
   "execution_count": null,
   "id": "8f03b9ac",
   "metadata": {},
   "outputs": [],
   "source": []
  }
 ],
 "metadata": {
  "kernelspec": {
   "display_name": "Python 3 (ipykernel)",
   "language": "python",
   "name": "python3"
  },
  "language_info": {
   "codemirror_mode": {
    "name": "ipython",
    "version": 3
   },
   "file_extension": ".py",
   "mimetype": "text/x-python",
   "name": "python",
   "nbconvert_exporter": "python",
   "pygments_lexer": "ipython3",
   "version": "3.11.4"
  }
 },
 "nbformat": 4,
 "nbformat_minor": 5
}
